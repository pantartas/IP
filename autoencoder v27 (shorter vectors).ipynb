{
 "cells": [
  {
   "cell_type": "code",
   "execution_count": 1,
   "id": "c175d55c",
   "metadata": {},
   "outputs": [
    {
     "data": {
      "application/javascript": [
       "\n",
       "window.scroll_flag = true\n",
       "window.scroll_exit = false\n",
       "window.scroll_delay = 100\n",
       "\n",
       "$(\".output_scroll\").each(function() {\n",
       "    $(this)[0].scrollTop = $(this)[0].scrollHeight;\n",
       "});\n",
       "\n",
       "function callScrollToBottom() {\n",
       "    setTimeout(scrollToBottom, window.scroll_delay);\n",
       "}\n",
       "\n",
       "function scrollToBottom() {\n",
       "    if (window.scroll_exit) {\n",
       "        return;\n",
       "    }\n",
       "    if (!window.scroll_flag) {\n",
       "        callScrollToBottom();\n",
       "        return;\n",
       "    };\n",
       "    \n",
       "    $(\".output_scroll\").each(function() {\n",
       "        if (!$(this).attr('scroll_checkbox')){\n",
       "            window.scroll_flag = true;\n",
       "            $(this).attr('scroll_checkbox',true);\n",
       "            var div = document.createElement('div');\n",
       "            var checkbox = document.createElement('input');\n",
       "            checkbox.type = \"checkbox\";\n",
       "            checkbox.onclick = function(){window.scroll_flag = checkbox.checked}\n",
       "            checkbox.checked = \"checked\"\n",
       "            div.append(\"Auto-Scroll-To-Bottom: \");\n",
       "            div.append(checkbox);\n",
       "            $(this).parent().before(div);\n",
       "        }\n",
       "        \n",
       "        $(this)[0].scrollTop = $(this)[0].scrollHeight;\n",
       "    });\n",
       "    callScrollToBottom();\n",
       "}\n",
       "scrollToBottom();\n"
      ],
      "text/plain": [
       "<IPython.core.display.Javascript object>"
      ]
     },
     "metadata": {},
     "output_type": "display_data"
    }
   ],
   "source": [
    "%%javascript\n",
    "\n",
    "window.scroll_flag = true\n",
    "window.scroll_exit = false\n",
    "window.scroll_delay = 100\n",
    "\n",
    "$(\".output_scroll\").each(function() {\n",
    "    $(this)[0].scrollTop = $(this)[0].scrollHeight;\n",
    "});\n",
    "\n",
    "function callScrollToBottom() {\n",
    "    setTimeout(scrollToBottom, window.scroll_delay);\n",
    "}\n",
    "\n",
    "function scrollToBottom() {\n",
    "    if (window.scroll_exit) {\n",
    "        return;\n",
    "    }\n",
    "    if (!window.scroll_flag) {\n",
    "        callScrollToBottom();\n",
    "        return;\n",
    "    };\n",
    "    \n",
    "    $(\".output_scroll\").each(function() {\n",
    "        if (!$(this).attr('scroll_checkbox')){\n",
    "            window.scroll_flag = true;\n",
    "            $(this).attr('scroll_checkbox',true);\n",
    "            var div = document.createElement('div');\n",
    "            var checkbox = document.createElement('input');\n",
    "            checkbox.type = \"checkbox\";\n",
    "            checkbox.onclick = function(){window.scroll_flag = checkbox.checked}\n",
    "            checkbox.checked = \"checked\"\n",
    "            div.append(\"Auto-Scroll-To-Bottom: \");\n",
    "            div.append(checkbox);\n",
    "            $(this).parent().before(div);\n",
    "        }\n",
    "        \n",
    "        $(this)[0].scrollTop = $(this)[0].scrollHeight;\n",
    "    });\n",
    "    callScrollToBottom();\n",
    "}\n",
    "scrollToBottom();"
   ]
  },
  {
   "cell_type": "code",
   "execution_count": 2,
   "id": "e3e3ff8a",
   "metadata": {},
   "outputs": [],
   "source": [
    "#import necessary libraries\n",
    "import os\n",
    "import IPython\n",
    "import librosa as lr\n",
    "import numpy as np\n",
    "from datetime import datetime\n",
    "from packaging import version\n",
    "import tensorboard\n",
    "import keras\n",
    "from keras import layers\n",
    "from keras import regularizers\n",
    "import tensorflow as tf\n",
    "import matplotlib.pyplot as plt\n",
    "from librosa import display\n",
    "from tensorflow.keras.layers import Conv2D,MaxPooling2D,UpSampling2D,Flatten,Dense,Activation,Conv2DTranspose\n",
    "import time\n",
    "from sklearn import preprocessing\n",
    "\n",
    "#LOG_DIR = f'{int(time.time())}'\n",
    "\n",
    "path = 'C:/Users/erikv/Desktop/IP/samples/' #path where the samples are stored'''\n",
    "dirs = os.listdir(path) #open the directory using os library'''\n",
    "\n",
    "def rosaspec(sound, NFFT): #defined functions for extracting the spectogram of a sound wave'''\n",
    "    sound = np.concatenate((np.zeros(int(NFFT/2)),sound,np.zeros(int(NFFT/2))))\n",
    "    spec_c = lr.stft(sound, n_fft=NFFT, hop_length=int(NFFT/2), win_length=None, window='hann', center=False)\n",
    "    return np.concatenate((np.expand_dims(np.real(spec_c),2),np.expand_dims(np.imag(spec_c),2)),axis=2)\n",
    "\n",
    "def irosaspec(spec,NFFT): #defined function for extracting a soundwave from a spectogram'''\n",
    "    spec_c = spec[:,:,0].squeeze() + 1j* spec[:,:,1].squeeze()\n",
    "    return lr.istft(spec_c, hop_length=int(NFFT/2), win_length=None, window='hann', center=False)[int(NFFT/2):-int(NFFT/2)]"
   ]
  },
  {
   "cell_type": "code",
   "execution_count": 3,
   "id": "82b1f366",
   "metadata": {},
   "outputs": [
    {
     "name": "stdout",
     "output_type": "stream",
     "text": [
      "(1, 64, 64, 2) 15.121327104970701\n"
     ]
    }
   ],
   "source": [
    "NFFT =  int(1022/8) #selection of the NFFT, allows the modification of the sie of 2nd array dimension'''\n",
    "\n",
    "batchsize = len(dirs) #selection of the batch size'''\n",
    "testsize = int(0.2*batchsize) #selection of the test batch file'''\n",
    "\n",
    "yoriginal1,sroriginal1 = lr.load(path+dirs[35],sr=2*8000) #open the audio file (in this case the \n",
    "                                                         #test one) using the librosa library'''\n",
    "yoriginal1 = yoriginal1[0:int(len(yoriginal1)/16)] #cropping of the loaded file to half the length for testing purposes'''\n",
    "#originalspect = lr.stft(yoriginal1, n_fft=NFFT, hop_length=int(NFFT/2), win_length=None, window='hann', center=False)\n",
    "asignal = np.array([rosaspec(yoriginal1,NFFT)]) #spectogram extraction from the file'''\n",
    "audio = asignal#/asignal.max() #normalized values to be between 0 and 1\n",
    "test= audio\n",
    "\n",
    "\n",
    "print (test.shape,test.max())"
   ]
  },
  {
   "cell_type": "code",
   "execution_count": 4,
   "id": "8fefb4f1",
   "metadata": {
    "scrolled": true
   },
   "outputs": [
    {
     "data": {
      "text/html": [
       "\n",
       "                <audio  controls=\"controls\" >\n",
       "                    <source src=\"data:audio/wav;base64,UklGRiYfAABXQVZFZm10IBAAAAABAAEAgD4AAAB9AAACABAAZGF0YQIfAAAAAAAAAAAAAAAAAAAAAAAAAAAAAAAAAAAAAAAAAAAAAAAAAAAAAAAAAQAAAAAAAAAAAAAAAAAAAAEAAAAAAAAAAQACAAEAAAAAAAAAAQAAAAAAAAAAAAAAAAAAAAAAAAAAAP3//v/+////AAD+//7//f/+//3//f/+/wAA/f/9//3//f/9//3//f////7//v8AAAAAAAABAAMAAAD1//n/TwHzA1AGngeoB/4GTQbNBacFsQXMBfAF/QXqBboFdgU8Bf8EbgTCA0QDAAMCA1gD8AOHBPoEJgUMBdgEtwS+BNsE2wTSBLAEbQQwBAME8wPuAwsERQSIBL8E1gTYBNoE2wTXBNwE4wTfBL4EiQRdBEsEUARpBIoEowS5BMIE0ATjBOwE9QTxBOgE7AT5BBEFLAUrBRQFAgXnBOEEBQUlBTkFbgW7BdkFngUiBawEYwQ/BDMERAReBDkExAMWA1ECoQEvAfoAzgCPAEcA9f+l/3f/hv/C/+L/yP+M/23/hv+6/+3/FgArADEALwAwAD0ATQBbAGYAaQBcADsADgD1//n/DwAsAEkAXgBqAGsAbABvAGYAVQBIAEgAUwBaAFgATABAAD4ASgBdAGwAcgBzAHQAbgBeAEsAPgBDAF8AiACrAMIA2AD6ACsBZAGlAeABEgI2Ak8CagKHAqICvALjAhEDPANcA30DpQPWAwsEPwRtBI8ErwTTBP4ENAV2BcgFLQaNBtsGGgdSB30HnwfDB+kHCwg0CGEIlAiyCE0IHgc1Be0C0wBt/8b+hP5I/tf9Ff0g/En71frA+sH6r/qm+uz6nvuD/GT9IP6b/tv+8P7m/sv+rf6h/qn+t/68/rL+mv6K/pf+xv4A/zX/W/9x/3f/av9R/zH/GP8K/w//Hf8g/w7/8f7e/tn+4/7p/vH+Bf8t/2//vv8HAEQAgQDLACYBfAHBAfYBHQI4AkoCYQKBApMClgKcAqgCuQLYAvsCGwNCA44DEQToBMcF/gUdBVIDUwHz/47/w/8AAPT/hf+x/s79Uv1i/aD9nf1I/RP9iP2c/un/OgFbAjYD4gN/BCQFwwV6BmQHTAi9CDsIxgbFBLAC9ADf/33/m//m/yIAMAD6/47/Bf+A/hP+3f0B/pD+Y/9YAFMBHQJwAiICUgE+AC//Qv5d/V38S/tM+o75Ivnv+Mr4kvhB+Or3t/fC9/z3Xfje+F75wPkU+m36y/ol+3f7vvv7+0f8nvwC/XP98v2J/jT/6P+lAIQBqwI7BDEGkAhZC4MOhhGqEkMQUwvEBl8ERARWBRYGlAWyA8wASP23+cb2lvTU8kHxN/Ch8IjyufQy9tH22fae9n72svZk96r4ZPo4/MP97P7A/3EAZwHUAnoE3QXEBjQHUgc6B9YGJgY/BVkEtgNeA0MDPQPuAhQCzwB5/1H+e/0V/Sz9pf1J/s3+2P5R/nv9pPz3+2n7Bvsd+9P7HP3h/gUBQgPfBB4FpQNwAAT8nPdt9OTysPIc813z9/Ic8i3xe/D87+/vYfAz8a3y+PQf+J773v6mAQAE7gVvB6YIlwnqCXIJdwh5B9oGoAaQBkkGegUwBM4CsAH7AJIATgAfAAAA/f83AH0ArADXAP8AKwFRAWgBbwFlATgBzwAwAI3/G//s/vj+Mv+g/2AAJAFRAXQA5f6K/R/9mP2u/hAAkQHUAo0DngP4AsoBkwDS/9H++PzO+dX07Ouq3B7CQqA5iAGAZoEjhTCHtIcviCuKc40QkV+VuJoHop+rPbmHzTfkNfYqAPUCSAKlAdAC5QQfBggG1ATqAq0AG/+O/or+kv7e/jn/U/+o/wgAOABD/7j9/vz//VIAzALpBCkGIQdsCHoJZwkMCEMGWAVVBS0GLwcMCHsIbwhxCKIHkwZWBfQEigTPAxYE3wPNBMkI6Qu2C0wNDhjMLJNEfljnZGhrUW7sbyVzD3Y6ePN6Pnwye6Z5H3fSbwpgRkYhI9/6ktPUsi6d/ZEXjoCNUo2ajZaO5o8akteVS5rznnCl1q8cv57R5uNC8in7tP/yAX8D4gQnBngGUAVPA3EBAADk/hn+h/0H/bP8w/xK/b/9sf1R/YT89/s7/Iv9UP/xAH0C1ANJBXQGIwdFB7cGAgZaBUQF3wV1BkIHHwgLCLEHXQepBrIFdAVGBQwELgPTA/oFdAcPB94HXg0XGW0qbj2cTYdZtmGuZulpJG2JcGBz8HRJdSd1HnRDcMpmOlU/O/Eamffq1WW6BKc+m0mVDZN1kmuS+5J+lOyW45l2nUmiZ6nJs2HBv9Cs30Hsk/XF+8H/dAI6BDMFGAUdBKQCBwGz/6P+wv3b/CL8nvta+2j7kvuu+3L7Efvz+j/7H/xI/Y/+IQCcASADkgRtBYUFQQXgBGAEbgTtBHIFGwarBvAGywY9Bt4FpwX7BCEEsQPOA2QEKgWLBf8Fbgi5DmoZcCeaNqdEH1CcWLpeW2MMZx5qfmwWbhpvo2/zbmhrIWNZVIE+vyLGAw3l0smPtCKmgp0CmfKWTJacltGX45mbnEygjqUirWy3/cPF0RDff+pe8+z5mf7LAd0D1ATDBOADegL2AIH/Tf5u/af8BvyI+0r7UPtb+z37+/q++qH65vqu+7P86f1N/6gA8wEWA88DGgQnBCcEUASjBP4EfAUPBmcGjwaLBkwG+AWpBU0F6wSqBJwEsQSxBNQEvwV9CEYOwRdHJAIyAz/mSVtSzFjNXclh7mRnZ0ppi2rYalppm2QOW6lLtTZcHeEB3+a2zjm7DK29oyOeJZvnmeOZ0JqUnEKfEqNQqF6vbrhCwyHP/drm5SfvgvYa/BQArQIKBFkExwOVAgQBZ/8F/t/88PtJ+8L6TPoD+s35jvlI+QH54vgg+cf5zvoO/FT9mP7X/+wAzgGKAiADpQM6BNsEhwUgBpUG6gYkB0sHWAdPBzQHDAfaBpoGTQYABtUFJAZsB18KsA/CFysi0y1xOfNDykzXU1JZpV0ZYeNjCmZ8Z+BncmYVYpdZGkyTOesiyglS8JzYZcSbtGapLaIOnhucspt0nECeI6FNpfKqOrIlu4HFqNDI2xjmCu9b9v77BgCnAgcEUgTKA7ACSgHa/3z+SP1D/GX7pvoL+pL5Mvnj+JL4Rfgh+ET4t/iC+Zb6zPsE/Tj+Yv9vAFUBDAK4AmEDBgSuBFEF4QVQBqIG2Qb1BvcG6gbQBpwGVgYKBtIF4wWNBksIsAsrEeUYiyJXLT84VEIBSw9SpFcFXIRfV2J4ZKdlc2UpY91dolQFRzc1LiBDCRzyS9wxyby5K64zpjihhZ59ncadMJ/Ioael6aqmsdi5S8OWzSLYPeJT6w3zP/nm/RAB9QLDA6sD3gKeASoAtP5e/Tf8Q/t++ur5cfkL+bX4Zfgi+AL4L/i++J75tvrq+yP9Vv56/38AXAEVArwCYAMEBKsEQQXBBSIGZQaRBqsGtga9BrgGngZuBjUGEgY+BgkH3QgWDPwQrRcEIJMpojNlPS9GmU2bU25YUlx2X9thQ2M4YydhRlzJU0VH1TZAI54NY/cQ4ujO676ZsuOpQKQDoZufs58ZodWj7adqrT+0VLxsxSjPAtlx4v3qTPIv+J78rf99AUQCMQJ1AU4A9P6W/VD8Kvsv+mH5uvgx+ML3Zvcc9+f22vYO95D3Xfhk+Yz6vPvr/Bf+M/81ABwB8gG7An4DQAT3BJkFHQaIBtsGGwdMB3IHiAeAB18HNgc1B5wHwgj7CoEOdRPlGbUhjCrYM+A8E0UXTOZRrFaRWqVd1F/WYD5gk11CWMlP2kOrNOEiXA8j+1nnGNVExX+49K5hqEGkHaKfoZSi56SUqJut5rNVu8LD58xd1qDfRejn7zn2JPut/u8AFQJLAsoByACD/yT+zPyK+2j6bvmZ+OL3SffT9nr2PfYn9lD2vPZq91L4X/l9+qX70/z6/Qz/AwDnAMEBlAJkAy4E5ASDBQwGgAbdBiYHYAeHB5IHhwd4B5MHFwhCCVILdQ7DElIYHx/8JocvKThVQKNH400ZU2pX01o/XWFe511bW01WRU4DQ5Q0jSPDEC790+nC1/DH/7ovsUqq66WYowKj/6NzpkeqZK+xtQq9PcUFzgvX198H6Ezva/VD+tb9NwCKAfkBtgH3AOD/ov5a/Rz88/rp+f/4OviX9xL3r/Zp9kv2XPav9kD3EvgT+Sf6R/to/I39pP6p/5wAigFuAksDIQTuBKgFRQbGBikHcAekB8oH1gfTB+QHMwj1CGEKqAzoDzIUkBkAIFgnTC9fNxQ/EEYqTFxRqlUJWVtbVVytWxhZQlTSTJJClDU8JiUVDQPc8Gffjs8Ewjm3N6+9qWmm/aRBpRSnV6rprqi0cbsYw2XLAdSS3LHkE+x28rD3o/tc/vr/ogCLAOf/5/6z/W78MfsL+gL5HPhZ97v2Q/bw9b31s/Xe9Uf26fbE98r45vkL+zP8Wv16/oz/kACJAXcCWgM3BAoFzgV4BgYHegfTBxYIRghkCHcImgjyCKwJ+Ar/DOIPrRNsGCIevCT/K5wzKTs9QpJIEE61UmNW6VgMWntZ71YcUsdKvEAWNDUluRRJA73x4+CJ0VPErbmzsSyszqhdp6ynjanWrGGxAreNvdfErMzG1M3ceOSA663xzPbI+qT9cf9QAG8A/P8g/wX+zfyN+1f6Mfkt+Ez3k/b/9Y31QfUe9Sv1cvX29bT2o/ez+NL5/Pop/E/9bP6C/5EAlAGSAowDgwRuBT4G7waDB/sHVwidCNIIAwlOCdgJygpJDHgOaxEqFbMZAx8TJboruDK2OV5AcEbLS1ZQ81NwVpFXGVfOVHVQ2EnXQHs1/yffGLAIFfi/523Y1spuv3m286+vq2ypAKlFqg6tKrFutqi8q8NAyyjTG9vF4uLpOfCU9c754Pzj/u7/JgDL/wj/Bf7f/Kj7dvpX+VT4dPe39h32p/VY9TH1NfVz9en1mfZ293T4hvmf+sD74Pz8/RT/IwAqAS4CMwM3BDEFFQbeBoUHDQh7CNAIFglbCbEJQAorC5gMog5XEcIU5xjIHV4jkik7MBE3tj3mQ21JLE7wUYpUrFUfValSIE5WR0A+9zLFJRgXfweV9/vnTdk3zDDBcbj7saytV6vSqvarkq5zsmm3Rb3Ww+nKQ9Ku2e/gyef77VfztfcD+0j9ov4t/xf/jf60/aT8fftP+iz5H/g092z2w/VA9eb0tPS09O30YPUQ9vL29fcN+S36Vft9/KX9zv7y/w0BIwI1A0UEUAVBBgsHsgc4CKAI9ghACY4J9gmZCpwLGA0jD8cRCBXpGGgdhCIqKD0ujTTVOtBAREYGS+pOtFEnU/1SCFEgTSdHED/oNOwocBvnDM/9vO5H4AbTfccBvrq2nLGRrm2tDK48sM2zg7grvovEdcuv0vrZHeHd5/ztRfOU99X6EP1e/uX+yf47/mD9Vfwu+//52fjI99b2CvZh9dr0fvRN9E70h/Ty9JL1YvZU9174dvmV+rn75PwR/jv/XgB+AaECwgPZBNwFvgZ8BxoImQgDCWIJwgk4CuQK5QtXDUkPyBHaFH4YuByFIeAmsSzLMvQ44j5SRAtJ20yBT7lQSFADTsxJlENiO1cxoyWhGLoKZPwZ7mXg0tPQyLG/k7h/s12wEa92r2SxoLT5uDy+NMSrynLRXNg4383l4+tH8c71W/nz+6H9fv6w/mH+t/3N/Lv7lfpt+VT4Vfd59r71JvW19HH0YPSF9OH0d/VA9i/3NvhK+Wf6i/u4/Ov9Hf9LAHYBogLLA+oE9gXhBqgHUQjiCF0J0AlKCt0KqAvFDEQONBCbEn4V4Bi/HB0h+yVLK+4wtjZoPMFBgkZsSkhN0k7NTgZNZkngQ3c8QzN6KFAcIw9eAXjz5eUr2cjNEcRGvIG2vrLssOWwfbKBtbK50r6sxAjLqtFq2BvfhuVz66/wE/WK+A/7ufye/eD9of0I/TD8NPsi+g/5BPgR9zr2gvXr9H30OfQk9D70ivQM9b71mfaT9574s/nR+vr7Kv1f/pL/xQD7AS4DVwRvBWgGQAf5B58ILwmzCT4K4Aq0C9EMTw46EJUSZxWvGG4cpyBZJX4q+i+iNTM7bEAKRdJIgEvTTJJMkkrFRi9B2jnlMIcm/xqZDqoBoPTn5+nbD9Gpx/u/HLoXtuezc7ONtA63u7pev7vEnsrY0DvXnt3W47Lp9+5+8yn38/nc+//8d/1n/e78J/wz+yX6Cvn19/P2CfZA9Zj0F/TK87Dzy/MZ9Jv0VPU89kD3WPh8+aj63vsc/V7+nv/eAB4CVwOGBKQFpAaBB0II7AiFCRMKpApOCyQMPg2sDncQpBI1FSwYihtWH5QjQShILY4y4TcCPahBkkV8SCVKT0rXSJpFnEDqOaYx9CcSHT8RywQT+H/rg9+C1NbKysKTvEK41bU1tTm2rLhOvOnAO8YFzB3SWdiP3pLkM+pG76DzIvfN+af7yfxD/Tz90PwY/C77KvoZ+Qb4AvcT9kD1kfQL9LDzhPOL88PzMvTU9Kj1n/au9874+Pkv+3D8uP0D/00AmgHlAiUEWAVzBm0HSQgNCcAJagoaC98Lzwz+DX8PWBGMExwWDhleHBAgKCSlKHstjjKtN5U8/kCjREVHqUiUSOZGj0OWPg84HDDtJrIcnRH0BRH6QO7a4jvYus6YxhHAR7tKuAe3Zbc6uU28YsBBxbDKdtBr1mncSuLj5wXtiPFK9T74ZPrL+4b8s/xy/Nr7C/sY+hL5Bfj+9g32OfWE9PvzoPN283vzs/Mi9Mb0mfWO9pv3t/je+Q77SPyH/cz+FABcAZ0C1AP9BBEGCwfpB7IIawkfCtkKqAucDMYNNw/3EAoTbRUjGC0blB5bIoMmAyvML7o0kDkNPuJBzESKRudGsEXXQlg+SjjJMAQoLB56EyMIePzP8H7l49pR0RrJecKbvY26QrmWuWG7ab5twivHacz90bfXbd3/4kroJ+1r8f/01Pfp+Ur7D/xR/Cn8rfv2+hX6HPka+B33LfZW9aH0EvSw83vzdPOg8/3zkfRa9Un2VPdw+Jn5zPoL/FL9n/7v/0EBkQLVAw0FLwY4ByYI/AjDCYUKTQspDCgNXQ7VD5QRnRPzFZAYfxu/HlciRCaFKg0vtDNDOHI8AECqQjJEaEQrQ2ZAIzx1Nn8vYydLHmgU6AkQ/xr0UukO35jVQM1MxvXATb1duxC7Q7y8vkTCn8aQy+LQatb/23nhveaj6wfwx/PP9hj5rPqb+/r75ft1+8T66Pny+O335fbw9RT1XfTO82rzM/Ms81nzvPNS9Br1C/YW9zb4ZPme+uH7Lv2B/tj/LwGDAs8DDgU+BlcHWQhHCSMK9grOC7gMwQ3zDlkQ/hHoExUWhhg7GzUefiEfJRUpVi3DMTU2YzoGPtdAlkINQxFCjj+HOwo2Oy9GJ1genhRKCpz/1vQ46hngyNaSzrnHdsLlvgG9uLzhvUrAtMPmx6TMvdEB107cg+F85iLrUe/v8ur1Ovji+e76cft/+zT7o/re+ff4AvgH9xX2NvVz9NPzXvMW8//yGPNj8+TzmPR69Xr2kve6+O/5MfuA/Nf9Nf+UAPIBRwOQBMwF8Ab+B/kI5wnOCroLuQzXDRsPkxBGEjUUYBbIGGkbUB59IfYkuijALPAwHjUOOX48Kj/VQFdBh0BSPrQ6vTWILzoo+h/yFk8NQAMG+dbu+eSw207THMxUxiXCmb+pvjW/E8EExNDHQMwf0TvWatuL4ILlLept7ijyQfWt9235kPom+0f7BvuB+sn57/gD+BH3JPZL9ZD0+/OQ81HzQfNh87DzM/Tn9MT1wPbS9/T4JPpd+6L87f0+/5IA5wE2A3sEsgXVBuUH4gjSCbwKpgueDK8N5g5JEOARqBOsFeQXVRoFHfgfNSO8Josqji6iMok2AjrGPJM+Mj9+PmE81jjuM8wtmSZ7HqIVOQx0Aob4rO4o5TncKdQ/zbjHt8NLwWjA88C5wobFHslNzeHRsdaV22vgG+WK6Z3tOfFH9L32mPje+Zr63vrB+lX6svnn+AT4F/co9kf1f/Tb81/zEfPx8gHzRfO882j0P/U69lL3f/i3+f36Ufyw/Rj/gwDsAU4DpgTwBSoHTghfCWQKZAtlDHMNmA7fD0oR4xKrFKAWxxgeG6odbyBxI7MmMyrfLZ0xPDWAOCY78zytPTE9aTtROOozUS6rJyAg0xfwDqcFKPyj8lHpdOBI2BfRJMuixqnDOcJBwprDDsZhyV3N1NGQ1mjbOuDo5FDpXO338Aj0gPZd+KT5Yvqo+oz6IfqB+br42ffr9v71H/VZ9LLzN/Pp8sfy0vIO83vzGPTg9Mz10vbt9xv5WPqg+/T8U/64/x8BgwLeAy0FbAadB8AI1wnlCvMLCA02Dn0P5xB4EjMUGhYrGGwa3xyIH28ikyX3KIwsNjDIMwY3qjltOx48lju/OZU2JzKTLPolix5uFswNywSi+4Hyl+kb4UrZa9K1zFjIbcX0w9rDAMUwxzfK4s0D0m/W/tqO3wbkSeg97M7v6PJ/9YP3+/jq+WT6efo5+rr5Cvk8+F73fPag9dj0LPSo80/zJPMq82LzyvNh9CP1DPYW9zf4aPmn+vb7T/2v/hYAgwHoAkEEjgXJBvYHFQknCjILQgxZDYQOyg8qEaoSThQbFg4YKRpsHOEeiyFsJIcn0io5LpYxtDRXNzs5KTr2OYs43DX0Meks3SbwH08YJBCVB8j+7PUv7cTk5dzQ1czPDsu4x9XFYsU4xirIA8uLzo/S4dZb29ffNeRa6DDsqO+n8iH1Dvdy+FP5xPnS+ZH5FPlt+Kj30/b59Sf1aPTK80/z+/LV8tzyEfN08wP0u/Sa9Zz2uffq+Cv6ePvT/Dv+q/8cAYsC8QNLBZgG1QcHCSwKSwtqDI4Nww4KEGsR6hKLFE8WNRhAGnMc1R5pITQkMydiKqwt6jDmM2M2HjjgOII47TYiNCgwGysgJVoe9xYXD+AGfv4U9sfty+VT3pbXzdEszdfJ1cclx6/HTsnNy/7OsdK81vfaP99043vnQeuy7r3xUPRf9uf37/iD+bH5iPkb+Xz4vvfr9gr2MPVk9LLzKfPH8pLyifKy8gvzkvNF9CP1JvZE93f4vfkS+3X84/1Z/9AARQKwAw8FYgaqB+QIFQo+C2UMkw3PDhoQehHzEogUORYHGPUZChxFHqkgPyMHJvwoDywiLwkyiDRiNl83VTcjNsUzOzCfKwwmpx+aGAoRFgnmAKf4dvB+6PXgFdoZ1DvPpstvyY/I9ch4yuTMA9Co06LXy9v83xbk/uek6/fu5vFj9F/22ffZ+Gz5n/mA+SP5lvjn9yP3VPaG9cf0IPSZ8zjz//Lv8grzVPPM82/0OvUr9jz3Zfif+ef6Pvyi/RH/hAD2AWMDxAQaBmYHqQjhCRALPgxvDa4O/A9eEdQSZBQSFt8XxxnQG/4dVyDdIpElayhgK04uCDFaMwQ10jWaNUo02DFQLsgpXyQ4HnsXSRDGCA4BSfmS8Q7q6eJP3HrWn9HozWvLMsowykfLTM0L0FjTBtfx2vPe5+K35k7qne2P8BzzM/XM9u/3o/j1+PD4pvgn+IL3xvb89TT1dvTR803z7/K78rPy2PIq86zzXvQ29TP2TfeB+Mf5Gft5/Ob9W//RAEUCsQMUBW0GvQcDCT0KbwucDM0NBw9MEKARCxOIFBoWxReNGXIbdh2hH/chdSQZJ9opoixIL5kxYDNkNHY0eDNgMTcuBirsJA0fjhiQETQKoQL3+lTz3Ou95CHeRthk06XPJc3qy+jL/sz8zrHR7NSF2FDcKuDx45Ln+uoY7t7wQPM19bf2yPdx+L34uvh0+Pz3Xven9uP1G/Vf9LTzJ/O98nnyYfJ18rbyJfPD84n0ePWG9q337vhB+qD7Dv2K/goAiQEEA3kE5gVJB6II8gk8C38Mww0ND2IQyBE+E8MUWxYKGNAZsButHcsfCyJyJPsmlSkvLKMuwTBUMiUzDjP2MdcvuCyvKNEjPx4ZGIARkwpvAzT8+PTa7QDnleDJ2s/V29EPz3LNAc2szUzPrtGi1P/XnNtZ3xLjreYW6j3tFfCQ8qL0QvZ19z34pvi8+Iv4I/iR9+L2I/Ze9aL0+vNv8wfzyfK18szyEPOD8yL07PTa9eb2DfhK+ZX68ftX/cj+PQC0AScDkgT0BU4HoQjsCTELcgyyDfYORBCiEQsTgRQIFqMXUhkYG/cc9B4SIVEjsSUoKKMqBi0lL84wyjHpMQ4xLS9HLG8ouyNMHj4YtRHXCr8DkPxk9VruludA4YnbqNbN0hbQjs4vzt7OeNDM0qjV4dhX3OXfbOPT5grqAe2r7wDy+POM9bv2iPf99yX4CPiz9zL3k/bi9Sv1evTY81Dz6PKm8o7yn/Ld8kfz4POh9If1jPaw9+74Pvqd+wv9hf4EAIcBCQOCBPAFWAe4CBAKZAuuDPoNSQ+fEAASaxPfFGAW8xeZGVMbIx0OHxUhOyN3JcgnFypJLDcutC+TMKUw0C8JLlgrxydqI10evxinEjYMiQW8/un3KfGi6nHkwN7G2bHVqdLA0PrPRdCB0YHTGdYc2WTczt8/45jmyem57GTvuvE=\" type=\"audio/wav\" />\n",
       "                    Your browser does not support the audio element.\n",
       "                </audio>\n",
       "              "
      ],
      "text/plain": [
       "<IPython.lib.display.Audio object>"
      ]
     },
     "metadata": {},
     "output_type": "display_data"
    }
   ],
   "source": [
    "starting = irosaspec(test[0],NFFT)\n",
    "IPython.display.display(IPython.display.Audio(starting,rate = sroriginal1)) #check if the audio has been correctly loaded"
   ]
  },
  {
   "cell_type": "code",
   "execution_count": 5,
   "id": "1a30d086",
   "metadata": {},
   "outputs": [],
   "source": [
    "xtrain = np.load('processedshorter.npy')"
   ]
  },
  {
   "cell_type": "code",
   "execution_count": 6,
   "id": "7146a0e6",
   "metadata": {},
   "outputs": [
    {
     "data": {
      "text/plain": [
       "(4096, 64, 64, 2)"
      ]
     },
     "execution_count": 6,
     "metadata": {},
     "output_type": "execute_result"
    }
   ],
   "source": [
    "xtrain.shape"
   ]
  },
  {
   "cell_type": "code",
   "execution_count": 7,
   "id": "bdd4a5c8-e511-4a23-93fc-d0cc6a97f600",
   "metadata": {},
   "outputs": [
    {
     "name": "stdout",
     "output_type": "stream",
     "text": [
      "Num GPUs Available:  1\n",
      "--------------loading correct--------------\n"
     ]
    }
   ],
   "source": [
    "device = 'cuda'\n",
    "print(\"Num GPUs Available: \", len(tf.config.list_physical_devices('GPU'))) #check if keras is using GPU optimization\n",
    "if test[0,20,20,0] == xtrain[35,20,20,0]: #if these two numbers are the same the files are coincident and correct loading\n",
    "    print ('--------------loading correct--------------')\n",
    "else:\n",
    "    print('--------------loading failed. check coordinates--------------') "
   ]
  },
  {
   "cell_type": "code",
   "execution_count": 8,
   "id": "8a11189b",
   "metadata": {},
   "outputs": [],
   "source": [
    "autoencoder = tf.keras.models.load_model('autoencoder_v26')\n",
    "encoder = autoencoder.get_layer('encoder')\n",
    "decoder = autoencoder.get_layer('decoder')"
   ]
  },
  {
   "cell_type": "markdown",
   "id": "10029664",
   "metadata": {},
   "source": [
    "tried = encoder(np.array([xtrain[2]]))\n",
    "encodedxtrain = np.zeros([batchsize,2048]) \n",
    "for i in range(4096):\n",
    "    encodedxtrain[i] = encoder(np.array([xtrain[i]]))\n",
    "print (encodedxtrain.shape)"
   ]
  },
  {
   "cell_type": "code",
   "execution_count": 9,
   "id": "f3a4d523",
   "metadata": {},
   "outputs": [
    {
     "data": {
      "text/plain": [
       "(4096, 2048)"
      ]
     },
     "execution_count": 9,
     "metadata": {},
     "output_type": "execute_result"
    }
   ],
   "source": [
    "xtrainencoded = np.load('xtrainencoded.npy')\n",
    "xtrainencoded.shape"
   ]
  },
  {
   "cell_type": "code",
   "execution_count": 11,
   "id": "14807f2b",
   "metadata": {},
   "outputs": [
    {
     "name": "stdout",
     "output_type": "stream",
     "text": [
      "Model: \"shortener\"\n",
      "_________________________________________________________________\n",
      "Layer (type)                 Output Shape              Param #   \n",
      "=================================================================\n",
      "encoded vector (InputLayer)  [(None, 2048)]            0         \n",
      "_________________________________________________________________\n",
      "dense_2 (Dense)              (None, 256)               524544    \n",
      "=================================================================\n",
      "Total params: 524,544\n",
      "Trainable params: 524,544\n",
      "Non-trainable params: 0\n",
      "_________________________________________________________________\n",
      "Model: \"reshaper\"\n",
      "_________________________________________________________________\n",
      "Layer (type)                 Output Shape              Param #   \n",
      "=================================================================\n",
      "shortened vector (InputLayer [(None, 256)]             0         \n",
      "_________________________________________________________________\n",
      "dense_3 (Dense)              (None, 2048)              526336    \n",
      "_________________________________________________________________\n",
      "dense_4 (Dense)              (None, 2048)              4196352   \n",
      "=================================================================\n",
      "Total params: 4,722,688\n",
      "Trainable params: 4,722,688\n",
      "Non-trainable params: 0\n",
      "_________________________________________________________________\n",
      "Model: \"visualizer\"\n",
      "_________________________________________________________________\n",
      "Layer (type)                 Output Shape              Param #   \n",
      "=================================================================\n",
      "input (InputLayer)           [(None, 2048)]            0         \n",
      "_________________________________________________________________\n",
      "shortener (Functional)       (None, 256)               524544    \n",
      "_________________________________________________________________\n",
      "reshaper (Functional)        (None, 2048)              4722688   \n",
      "=================================================================\n",
      "Total params: 5,247,232\n",
      "Trainable params: 5,247,232\n",
      "Non-trainable params: 0\n",
      "_________________________________________________________________\n"
     ]
    }
   ],
   "source": [
    "k = 8\n",
    "shortenerinput = keras.Input(shape=(2048), name=\"encoded vector\")\n",
    "shorteneroutput = layers.Dense(2**(k),activation='LeakyReLU')(shortenerinput) \n",
    "\n",
    "shortener = keras.Model(shortenerinput, shorteneroutput, name=\"shortener\")\n",
    "shortener.summary()\n",
    "\n",
    "reshaperinput = keras.Input(shape=(2**k), name=\"shortened vector\")\n",
    "x = layers.Dense(2048, activation='LeakyReLU')(reshaperinput) \n",
    "reshaperoutput = layers.Dense(2048)(x)  \n",
    "\n",
    "reshaper = keras.Model(reshaperinput, reshaperoutput, name=\"reshaper\")\n",
    "reshaper.summary()\n",
    "\n",
    "visualizerinput = keras.Input(shape=(2048), name=\"input\")\n",
    "shortened = shortener(visualizerinput)\n",
    "reshaped = reshaper(shortened)\n",
    "visualizer = keras.Model(visualizerinput, reshaped, name=\"visualizer\")\n",
    "visualizer.summary()"
   ]
  },
  {
   "cell_type": "code",
   "execution_count": 12,
   "id": "7ace62e6",
   "metadata": {
    "slideshow": {
     "slide_type": "notes"
    },
    "tags": []
   },
   "outputs": [
    {
     "name": "stdout",
     "output_type": "stream",
     "text": [
      "Epoch 1/200\n",
      "164/164 [==============================] - 2s 8ms/step - loss: 3.7860 - val_loss: 1.7669\n",
      "Epoch 2/200\n",
      "164/164 [==============================] - 1s 6ms/step - loss: 1.9697 - val_loss: 1.3611\n",
      "Epoch 3/200\n",
      "164/164 [==============================] - 1s 6ms/step - loss: 1.6232 - val_loss: 1.7059\n",
      "Epoch 4/200\n",
      "164/164 [==============================] - 1s 6ms/step - loss: 1.4613 - val_loss: 1.0574\n",
      "Epoch 5/200\n",
      "164/164 [==============================] - 1s 5ms/step - loss: 1.1886 - val_loss: 0.9909\n",
      "Epoch 6/200\n",
      "164/164 [==============================] - 1s 4ms/step - loss: 1.0544 - val_loss: 0.9585\n",
      "Epoch 7/200\n",
      "164/164 [==============================] - 1s 4ms/step - loss: 1.1176 - val_loss: 1.1457\n",
      "Epoch 8/200\n",
      "164/164 [==============================] - 1s 4ms/step - loss: 1.0521 - val_loss: 0.9390\n",
      "Epoch 9/200\n",
      "164/164 [==============================] - 1s 4ms/step - loss: 0.9032 - val_loss: 0.9394\n",
      "Epoch 10/200\n",
      "164/164 [==============================] - 1s 4ms/step - loss: 0.8970 - val_loss: 0.8101\n",
      "Epoch 11/200\n",
      "164/164 [==============================] - 1s 4ms/step - loss: 0.7962 - val_loss: 0.9064\n",
      "Epoch 12/200\n",
      "164/164 [==============================] - 1s 4ms/step - loss: 0.8522 - val_loss: 0.7878\n",
      "Epoch 13/200\n",
      "164/164 [==============================] - 1s 4ms/step - loss: 0.8381 - val_loss: 0.8482\n",
      "Epoch 14/200\n",
      "164/164 [==============================] - 1s 4ms/step - loss: 0.8270 - val_loss: 0.9084\n",
      "Epoch 15/200\n",
      "164/164 [==============================] - 1s 4ms/step - loss: 0.8523 - val_loss: 0.7665\n",
      "Epoch 16/200\n",
      "164/164 [==============================] - 1s 4ms/step - loss: 0.7176 - val_loss: 0.7542\n",
      "Epoch 17/200\n",
      "164/164 [==============================] - 1s 4ms/step - loss: 0.7008 - val_loss: 0.7240\n",
      "Epoch 18/200\n",
      "164/164 [==============================] - 1s 4ms/step - loss: 0.7061 - val_loss: 0.7984\n",
      "Epoch 19/200\n",
      "164/164 [==============================] - 1s 4ms/step - loss: 0.7743 - val_loss: 0.8013\n",
      "Epoch 20/200\n",
      "164/164 [==============================] - 1s 4ms/step - loss: 0.7491 - val_loss: 0.8211\n",
      "Epoch 21/200\n",
      "164/164 [==============================] - 1s 4ms/step - loss: 0.6578 - val_loss: 0.7493\n",
      "Epoch 22/200\n",
      "164/164 [==============================] - 1s 4ms/step - loss: 0.6208 - val_loss: 0.8543\n",
      "Epoch 23/200\n",
      "164/164 [==============================] - 1s 4ms/step - loss: 0.7124 - val_loss: 0.7056\n",
      "Epoch 24/200\n",
      "164/164 [==============================] - 1s 4ms/step - loss: 0.6235 - val_loss: 0.6682\n",
      "Epoch 25/200\n",
      "164/164 [==============================] - 1s 4ms/step - loss: 0.5768 - val_loss: 0.6461\n",
      "Epoch 26/200\n",
      "164/164 [==============================] - 1s 4ms/step - loss: 0.5687 - val_loss: 0.7536\n",
      "Epoch 27/200\n",
      "164/164 [==============================] - 1s 4ms/step - loss: 0.6119 - val_loss: 0.7115\n",
      "Epoch 28/200\n",
      "164/164 [==============================] - 1s 4ms/step - loss: 0.5483 - val_loss: 0.7111\n",
      "Epoch 29/200\n",
      "164/164 [==============================] - 1s 4ms/step - loss: 0.5917 - val_loss: 0.7433\n",
      "Epoch 30/200\n",
      "164/164 [==============================] - 1s 4ms/step - loss: 0.6216 - val_loss: 0.6867\n",
      "Epoch 31/200\n",
      "164/164 [==============================] - 1s 4ms/step - loss: 0.7367 - val_loss: 0.7451\n",
      "Epoch 32/200\n",
      "164/164 [==============================] - 1s 4ms/step - loss: 0.6814 - val_loss: 0.8106\n",
      "Epoch 33/200\n",
      "164/164 [==============================] - 1s 4ms/step - loss: 0.6606 - val_loss: 0.6616\n",
      "Epoch 34/200\n",
      "164/164 [==============================] - 1s 4ms/step - loss: 0.5293 - val_loss: 0.6438\n",
      "Epoch 35/200\n",
      "164/164 [==============================] - 1s 4ms/step - loss: 0.4851 - val_loss: 0.6629\n",
      "Epoch 36/200\n",
      "164/164 [==============================] - 1s 4ms/step - loss: 0.5212 - val_loss: 0.6589\n",
      "Epoch 37/200\n",
      "164/164 [==============================] - 1s 4ms/step - loss: 0.5711 - val_loss: 0.6307\n",
      "Epoch 38/200\n",
      "164/164 [==============================] - 1s 4ms/step - loss: 0.4934 - val_loss: 0.6660\n",
      "Epoch 39/200\n",
      "164/164 [==============================] - 1s 4ms/step - loss: 0.5132 - val_loss: 0.6515\n",
      "Epoch 40/200\n",
      "164/164 [==============================] - 1s 4ms/step - loss: 0.6064 - val_loss: 0.6857\n",
      "Epoch 41/200\n",
      "164/164 [==============================] - 1s 4ms/step - loss: 0.5412 - val_loss: 0.6624\n",
      "Epoch 42/200\n",
      "164/164 [==============================] - 1s 4ms/step - loss: 0.5205 - val_loss: 0.6819\n",
      "Epoch 43/200\n",
      "164/164 [==============================] - 1s 4ms/step - loss: 0.5347 - val_loss: 0.6537\n",
      "Epoch 44/200\n",
      "164/164 [==============================] - 1s 4ms/step - loss: 0.5664 - val_loss: 0.6559\n",
      "Epoch 45/200\n",
      "164/164 [==============================] - 1s 4ms/step - loss: 0.5737 - val_loss: 0.6520\n",
      "Epoch 46/200\n",
      "164/164 [==============================] - 1s 4ms/step - loss: 0.4755 - val_loss: 0.6680\n",
      "Epoch 47/200\n",
      "164/164 [==============================] - 1s 4ms/step - loss: 0.4698 - val_loss: 0.6250\n",
      "Epoch 48/200\n",
      "164/164 [==============================] - 1s 5ms/step - loss: 0.4531 - val_loss: 0.6185\n",
      "Epoch 49/200\n",
      "164/164 [==============================] - 1s 4ms/step - loss: 0.4774 - val_loss: 0.6562\n",
      "Epoch 50/200\n",
      "164/164 [==============================] - 1s 4ms/step - loss: 0.4635 - val_loss: 0.6734\n",
      "Epoch 51/200\n",
      "164/164 [==============================] - 1s 4ms/step - loss: 0.5515 - val_loss: 0.7083\n",
      "Epoch 52/200\n",
      "164/164 [==============================] - 1s 4ms/step - loss: 0.5163 - val_loss: 0.6550\n",
      "Epoch 53/200\n",
      "164/164 [==============================] - 1s 4ms/step - loss: 0.4661 - val_loss: 0.6421\n",
      "Epoch 54/200\n",
      "164/164 [==============================] - 1s 5ms/step - loss: 0.4301 - val_loss: 0.6047\n",
      "Epoch 55/200\n",
      "164/164 [==============================] - 1s 4ms/step - loss: 0.4297 - val_loss: 0.6435\n",
      "Epoch 56/200\n",
      "164/164 [==============================] - 1s 4ms/step - loss: 0.4159 - val_loss: 0.5891\n",
      "Epoch 57/200\n",
      "164/164 [==============================] - 1s 4ms/step - loss: 0.4198 - val_loss: 0.6497\n",
      "Epoch 58/200\n",
      "164/164 [==============================] - 1s 4ms/step - loss: 0.4884 - val_loss: 0.6341\n",
      "Epoch 59/200\n",
      "164/164 [==============================] - 1s 4ms/step - loss: 0.4307 - val_loss: 0.6526\n",
      "Epoch 60/200\n",
      "164/164 [==============================] - 1s 4ms/step - loss: 0.4795 - val_loss: 0.6459\n",
      "Epoch 61/200\n",
      "164/164 [==============================] - 1s 4ms/step - loss: 0.4776 - val_loss: 0.6789\n",
      "Epoch 62/200\n",
      "164/164 [==============================] - 1s 4ms/step - loss: 0.4446 - val_loss: 0.6337\n",
      "Epoch 63/200\n",
      "164/164 [==============================] - 1s 4ms/step - loss: 0.4569 - val_loss: 0.6429\n",
      "Epoch 64/200\n",
      "164/164 [==============================] - 1s 4ms/step - loss: 0.4113 - val_loss: 0.6150\n",
      "Epoch 65/200\n",
      "164/164 [==============================] - 1s 4ms/step - loss: 0.4395 - val_loss: 0.6348\n",
      "Epoch 66/200\n",
      "164/164 [==============================] - 1s 4ms/step - loss: 0.4228 - val_loss: 0.6295\n",
      "Epoch 67/200\n",
      "164/164 [==============================] - 1s 4ms/step - loss: 0.4327 - val_loss: 0.6322\n",
      "Epoch 68/200\n",
      "164/164 [==============================] - 1s 4ms/step - loss: 0.3994 - val_loss: 0.6071\n",
      "Epoch 69/200\n",
      "164/164 [==============================] - 1s 4ms/step - loss: 0.4192 - val_loss: 0.6438\n",
      "Epoch 70/200\n",
      "164/164 [==============================] - 1s 4ms/step - loss: 0.4662 - val_loss: 0.6556\n",
      "Epoch 71/200\n",
      "164/164 [==============================] - 1s 4ms/step - loss: 0.4505 - val_loss: 0.6961\n",
      "Epoch 72/200\n",
      "164/164 [==============================] - 1s 4ms/step - loss: 0.4581 - val_loss: 0.6582\n",
      "Epoch 73/200\n",
      "164/164 [==============================] - 1s 4ms/step - loss: 0.5256 - val_loss: 0.6446\n",
      "Epoch 74/200\n",
      "164/164 [==============================] - 1s 4ms/step - loss: 0.4493 - val_loss: 0.6391\n",
      "Epoch 75/200\n",
      "164/164 [==============================] - 1s 4ms/step - loss: 0.4019 - val_loss: 0.6640\n",
      "Epoch 76/200\n",
      "164/164 [==============================] - 1s 4ms/step - loss: 0.3907 - val_loss: 0.5727\n",
      "Epoch 77/200\n",
      "164/164 [==============================] - 1s 4ms/step - loss: 0.3556 - val_loss: 0.5806\n",
      "Epoch 78/200\n",
      "164/164 [==============================] - 1s 4ms/step - loss: 0.3566 - val_loss: 0.6193\n",
      "Epoch 79/200\n",
      "164/164 [==============================] - 1s 4ms/step - loss: 0.3779 - val_loss: 0.6561\n",
      "Epoch 80/200\n",
      "164/164 [==============================] - 1s 4ms/step - loss: 0.4135 - val_loss: 0.6503\n",
      "Epoch 81/200\n",
      "164/164 [==============================] - 1s 4ms/step - loss: 0.4072 - val_loss: 0.6166\n",
      "Epoch 82/200\n",
      "164/164 [==============================] - 1s 4ms/step - loss: 0.4093 - val_loss: 0.6064\n",
      "Epoch 83/200\n",
      "164/164 [==============================] - 1s 4ms/step - loss: 0.3838 - val_loss: 0.6498\n",
      "Epoch 84/200\n",
      "164/164 [==============================] - 1s 4ms/step - loss: 0.3779 - val_loss: 0.6218\n",
      "Epoch 85/200\n",
      "164/164 [==============================] - 1s 4ms/step - loss: 0.4017 - val_loss: 0.5996\n",
      "Epoch 86/200\n",
      "164/164 [==============================] - 1s 4ms/step - loss: 0.3854 - val_loss: 0.6143\n",
      "Epoch 87/200\n",
      "164/164 [==============================] - 1s 4ms/step - loss: 0.3650 - val_loss: 0.6271\n",
      "Epoch 88/200\n",
      "164/164 [==============================] - 1s 4ms/step - loss: 0.3730 - val_loss: 0.6067\n",
      "Epoch 89/200\n",
      "164/164 [==============================] - 1s 4ms/step - loss: 0.4145 - val_loss: 0.6378\n",
      "Epoch 90/200\n",
      "164/164 [==============================] - 1s 4ms/step - loss: 0.4091 - val_loss: 0.6107\n",
      "Epoch 91/200\n",
      "164/164 [==============================] - 1s 4ms/step - loss: 0.3998 - val_loss: 0.6259\n",
      "Epoch 92/200\n",
      "164/164 [==============================] - 1s 4ms/step - loss: 0.4293 - val_loss: 0.5959\n",
      "Epoch 93/200\n",
      "164/164 [==============================] - 1s 4ms/step - loss: 0.3815 - val_loss: 0.5849\n",
      "Epoch 94/200\n",
      "164/164 [==============================] - 1s 4ms/step - loss: 0.3612 - val_loss: 0.5829\n",
      "Epoch 95/200\n",
      "164/164 [==============================] - 1s 4ms/step - loss: 0.3523 - val_loss: 0.5689\n",
      "Epoch 96/200\n",
      "164/164 [==============================] - 1s 4ms/step - loss: 0.3239 - val_loss: 0.5781\n",
      "Epoch 97/200\n",
      "164/164 [==============================] - 1s 4ms/step - loss: 0.3587 - val_loss: 0.6273\n",
      "Epoch 98/200\n",
      "164/164 [==============================] - 1s 4ms/step - loss: 0.3950 - val_loss: 0.6024\n",
      "Epoch 99/200\n",
      "164/164 [==============================] - 1s 4ms/step - loss: 0.3921 - val_loss: 0.5954\n",
      "Epoch 100/200\n",
      "164/164 [==============================] - 1s 4ms/step - loss: 0.3731 - val_loss: 0.5871\n",
      "Epoch 101/200\n",
      "164/164 [==============================] - 1s 4ms/step - loss: 0.3733 - val_loss: 0.5945\n",
      "Epoch 102/200\n",
      "164/164 [==============================] - 1s 4ms/step - loss: 0.3645 - val_loss: 0.5635\n",
      "Epoch 103/200\n",
      "164/164 [==============================] - 1s 4ms/step - loss: 0.3458 - val_loss: 0.5789\n",
      "Epoch 104/200\n",
      "164/164 [==============================] - 1s 4ms/step - loss: 0.3234 - val_loss: 0.5790\n",
      "Epoch 105/200\n",
      "164/164 [==============================] - 1s 4ms/step - loss: 0.3641 - val_loss: 0.6237\n",
      "Epoch 106/200\n",
      "164/164 [==============================] - 1s 4ms/step - loss: 0.3742 - val_loss: 0.6401\n",
      "Epoch 107/200\n",
      "164/164 [==============================] - 1s 4ms/step - loss: 0.4529 - val_loss: 0.5963\n",
      "Epoch 108/200\n",
      "164/164 [==============================] - 1s 4ms/step - loss: 0.3593 - val_loss: 0.6188\n",
      "Epoch 109/200\n",
      "164/164 [==============================] - 1s 4ms/step - loss: 0.3866 - val_loss: 0.6074\n",
      "Epoch 110/200\n",
      "164/164 [==============================] - 1s 4ms/step - loss: 0.3459 - val_loss: 0.6053\n",
      "Epoch 111/200\n",
      "164/164 [==============================] - 1s 4ms/step - loss: 0.3388 - val_loss: 0.5643\n",
      "Epoch 112/200\n",
      "164/164 [==============================] - 1s 4ms/step - loss: 0.3281 - val_loss: 0.6061\n",
      "Epoch 113/200\n",
      "164/164 [==============================] - 1s 4ms/step - loss: 0.3207 - val_loss: 0.5627\n",
      "Epoch 114/200\n",
      "164/164 [==============================] - 1s 4ms/step - loss: 0.3177 - val_loss: 0.5735\n",
      "Epoch 115/200\n",
      "164/164 [==============================] - 1s 4ms/step - loss: 0.3079 - val_loss: 0.5591\n",
      "Epoch 116/200\n",
      "164/164 [==============================] - 1s 4ms/step - loss: 0.3284 - val_loss: 0.5978\n",
      "Epoch 117/200\n",
      "164/164 [==============================] - 1s 4ms/step - loss: 0.3511 - val_loss: 0.6012\n",
      "Epoch 118/200\n",
      "164/164 [==============================] - 1s 4ms/step - loss: 0.3777 - val_loss: 0.5961\n",
      "Epoch 119/200\n",
      "164/164 [==============================] - 1s 4ms/step - loss: 0.3803 - val_loss: 0.5811\n",
      "Epoch 120/200\n",
      "164/164 [==============================] - 1s 4ms/step - loss: 0.3661 - val_loss: 0.5738\n",
      "Epoch 121/200\n",
      "164/164 [==============================] - 1s 4ms/step - loss: 0.3862 - val_loss: 0.6166\n",
      "Epoch 122/200\n",
      "164/164 [==============================] - 1s 4ms/step - loss: 0.3373 - val_loss: 0.5770\n",
      "Epoch 123/200\n",
      "164/164 [==============================] - 1s 4ms/step - loss: 0.3401 - val_loss: 0.5572\n",
      "Epoch 124/200\n",
      "164/164 [==============================] - 1s 4ms/step - loss: 0.3190 - val_loss: 0.5595\n",
      "Epoch 125/200\n",
      "164/164 [==============================] - 1s 4ms/step - loss: 0.3127 - val_loss: 0.5943\n",
      "Epoch 126/200\n",
      "164/164 [==============================] - 1s 4ms/step - loss: 0.3315 - val_loss: 0.6018\n",
      "Epoch 127/200\n",
      "164/164 [==============================] - 1s 4ms/step - loss: 0.3934 - val_loss: 0.6011\n",
      "Epoch 128/200\n",
      "164/164 [==============================] - 1s 4ms/step - loss: 0.3325 - val_loss: 0.6048\n",
      "Epoch 129/200\n",
      "164/164 [==============================] - 1s 4ms/step - loss: 0.3160 - val_loss: 0.5985\n",
      "Epoch 130/200\n",
      "164/164 [==============================] - 1s 4ms/step - loss: 0.3075 - val_loss: 0.5536\n",
      "Epoch 131/200\n",
      "164/164 [==============================] - 1s 4ms/step - loss: 0.2974 - val_loss: 0.5820\n",
      "Epoch 132/200\n",
      "164/164 [==============================] - 1s 4ms/step - loss: 0.3087 - val_loss: 0.5548\n",
      "Epoch 133/200\n",
      "164/164 [==============================] - 1s 4ms/step - loss: 0.3329 - val_loss: 0.5818\n",
      "Epoch 134/200\n",
      "164/164 [==============================] - 1s 4ms/step - loss: 0.3769 - val_loss: 0.5993\n",
      "Epoch 135/200\n",
      "164/164 [==============================] - 1s 4ms/step - loss: 0.3652 - val_loss: 0.5962\n",
      "Epoch 136/200\n",
      "164/164 [==============================] - 1s 4ms/step - loss: 0.3630 - val_loss: 0.5976\n",
      "Epoch 137/200\n",
      "164/164 [==============================] - 1s 4ms/step - loss: 0.3493 - val_loss: 0.6044\n",
      "Epoch 138/200\n",
      "164/164 [==============================] - 1s 4ms/step - loss: 0.3341 - val_loss: 0.5759\n",
      "Epoch 139/200\n",
      "164/164 [==============================] - 1s 4ms/step - loss: 0.2988 - val_loss: 0.5692\n",
      "Epoch 140/200\n",
      "164/164 [==============================] - 1s 4ms/step - loss: 0.2924 - val_loss: 0.5646\n",
      "Epoch 141/200\n",
      "164/164 [==============================] - 1s 4ms/step - loss: 0.2853 - val_loss: 0.5678\n",
      "Epoch 142/200\n",
      "164/164 [==============================] - 1s 4ms/step - loss: 0.3344 - val_loss: 0.6154\n",
      "Epoch 143/200\n",
      "164/164 [==============================] - 1s 4ms/step - loss: 0.3577 - val_loss: 0.5954\n",
      "Epoch 144/200\n",
      "164/164 [==============================] - 1s 4ms/step - loss: 0.3204 - val_loss: 0.5840\n",
      "Epoch 145/200\n",
      "164/164 [==============================] - 1s 4ms/step - loss: 0.3120 - val_loss: 0.5892\n",
      "Epoch 146/200\n",
      "164/164 [==============================] - 1s 4ms/step - loss: 0.3345 - val_loss: 0.5768\n",
      "Epoch 147/200\n",
      "164/164 [==============================] - 1s 4ms/step - loss: 0.3559 - val_loss: 0.6061\n",
      "Epoch 148/200\n",
      "164/164 [==============================] - 1s 4ms/step - loss: 0.3675 - val_loss: 0.6174\n",
      "Epoch 149/200\n",
      "164/164 [==============================] - 1s 4ms/step - loss: 0.3454 - val_loss: 0.5625\n",
      "Epoch 150/200\n",
      "164/164 [==============================] - 1s 4ms/step - loss: 0.2909 - val_loss: 0.5538\n",
      "Epoch 151/200\n",
      "164/164 [==============================] - 1s 4ms/step - loss: 0.2781 - val_loss: 0.5607\n",
      "Epoch 152/200\n",
      "164/164 [==============================] - 1s 4ms/step - loss: 0.3357 - val_loss: 0.5775\n",
      "Epoch 153/200\n",
      "164/164 [==============================] - 1s 4ms/step - loss: 0.3228 - val_loss: 0.6008\n",
      "Epoch 154/200\n",
      "164/164 [==============================] - 1s 4ms/step - loss: 0.3471 - val_loss: 0.5816\n",
      "Epoch 155/200\n",
      "164/164 [==============================] - 1s 4ms/step - loss: 0.3024 - val_loss: 0.5661\n",
      "Epoch 156/200\n",
      "164/164 [==============================] - 1s 4ms/step - loss: 0.2982 - val_loss: 0.5642\n",
      "Epoch 157/200\n",
      "164/164 [==============================] - 1s 4ms/step - loss: 0.3041 - val_loss: 0.5610\n",
      "Epoch 158/200\n",
      "164/164 [==============================] - 1s 4ms/step - loss: 0.3050 - val_loss: 0.5731\n",
      "Epoch 159/200\n",
      "164/164 [==============================] - 1s 4ms/step - loss: 0.3248 - val_loss: 0.5949\n",
      "Epoch 160/200\n",
      "164/164 [==============================] - 1s 4ms/step - loss: 0.3170 - val_loss: 0.5661\n"
     ]
    },
    {
     "name": "stdout",
     "output_type": "stream",
     "text": [
      "Epoch 161/200\n",
      "164/164 [==============================] - 1s 4ms/step - loss: 0.2992 - val_loss: 0.5784\n",
      "Epoch 162/200\n",
      "164/164 [==============================] - 1s 4ms/step - loss: 0.2847 - val_loss: 0.5756\n",
      "Epoch 163/200\n",
      "164/164 [==============================] - 1s 4ms/step - loss: 0.3085 - val_loss: 0.5575\n",
      "Epoch 164/200\n",
      "164/164 [==============================] - 1s 4ms/step - loss: 0.3258 - val_loss: 0.5896\n",
      "Epoch 165/200\n",
      "164/164 [==============================] - 1s 4ms/step - loss: 0.3205 - val_loss: 0.5832\n",
      "Epoch 166/200\n",
      "164/164 [==============================] - 1s 4ms/step - loss: 0.3171 - val_loss: 0.5773\n",
      "Epoch 167/200\n",
      "164/164 [==============================] - 1s 4ms/step - loss: 0.3017 - val_loss: 0.5598\n",
      "Epoch 168/200\n",
      "164/164 [==============================] - 1s 4ms/step - loss: 0.2944 - val_loss: 0.5645\n",
      "Epoch 169/200\n",
      "164/164 [==============================] - 1s 4ms/step - loss: 0.3078 - val_loss: 0.5729\n",
      "Epoch 170/200\n",
      "164/164 [==============================] - 1s 4ms/step - loss: 0.2946 - val_loss: 0.5734\n",
      "Epoch 171/200\n",
      "164/164 [==============================] - 1s 4ms/step - loss: 0.2858 - val_loss: 0.5884\n",
      "Epoch 172/200\n",
      "164/164 [==============================] - 1s 4ms/step - loss: 0.2726 - val_loss: 0.5501\n",
      "Epoch 173/200\n",
      "164/164 [==============================] - 1s 4ms/step - loss: 0.2838 - val_loss: 0.5551\n",
      "Epoch 174/200\n",
      "164/164 [==============================] - 1s 4ms/step - loss: 0.2990 - val_loss: 0.5445\n",
      "Epoch 175/200\n",
      "164/164 [==============================] - 1s 4ms/step - loss: 0.3201 - val_loss: 0.6279\n",
      "Epoch 176/200\n",
      "164/164 [==============================] - 1s 4ms/step - loss: 0.3120 - val_loss: 0.5901\n",
      "Epoch 177/200\n",
      "164/164 [==============================] - 1s 4ms/step - loss: 0.3052 - val_loss: 0.5807\n",
      "Epoch 178/200\n",
      "164/164 [==============================] - 1s 4ms/step - loss: 0.2954 - val_loss: 0.5646\n",
      "Epoch 179/200\n",
      "164/164 [==============================] - 1s 4ms/step - loss: 0.2789 - val_loss: 0.5460\n",
      "Epoch 180/200\n",
      "164/164 [==============================] - 1s 4ms/step - loss: 0.2723 - val_loss: 0.5803\n",
      "Epoch 181/200\n",
      "164/164 [==============================] - 1s 4ms/step - loss: 0.3369 - val_loss: 0.5582\n",
      "Epoch 182/200\n",
      "164/164 [==============================] - 1s 4ms/step - loss: 0.3070 - val_loss: 0.6127\n",
      "Epoch 183/200\n",
      "164/164 [==============================] - 1s 4ms/step - loss: 0.3191 - val_loss: 0.5725\n",
      "Epoch 184/200\n",
      "164/164 [==============================] - 1s 4ms/step - loss: 0.2834 - val_loss: 0.5697\n",
      "Epoch 185/200\n",
      "164/164 [==============================] - 1s 4ms/step - loss: 0.2871 - val_loss: 0.5531\n",
      "Epoch 186/200\n",
      "164/164 [==============================] - 1s 4ms/step - loss: 0.2850 - val_loss: 0.5796\n",
      "Epoch 187/200\n",
      "164/164 [==============================] - 1s 4ms/step - loss: 0.3110 - val_loss: 0.5798\n",
      "Epoch 188/200\n",
      "164/164 [==============================] - 1s 4ms/step - loss: 0.2736 - val_loss: 0.5591\n",
      "Epoch 189/200\n",
      "164/164 [==============================] - 1s 4ms/step - loss: 0.2855 - val_loss: 0.5568\n",
      "Epoch 190/200\n",
      "164/164 [==============================] - 1s 4ms/step - loss: 0.2793 - val_loss: 0.6031\n",
      "Epoch 191/200\n",
      "164/164 [==============================] - 1s 4ms/step - loss: 0.3352 - val_loss: 0.5889\n",
      "Epoch 192/200\n",
      "164/164 [==============================] - 1s 4ms/step - loss: 0.2766 - val_loss: 0.5833\n",
      "Epoch 193/200\n",
      "164/164 [==============================] - 1s 4ms/step - loss: 0.2576 - val_loss: 0.5765\n",
      "Epoch 194/200\n",
      "164/164 [==============================] - 1s 4ms/step - loss: 0.2853 - val_loss: 0.5462\n",
      "Epoch 195/200\n",
      "164/164 [==============================] - 1s 4ms/step - loss: 0.2782 - val_loss: 0.5569\n",
      "Epoch 196/200\n",
      "164/164 [==============================] - 1s 4ms/step - loss: 0.2857 - val_loss: 0.5471\n",
      "Epoch 197/200\n",
      "164/164 [==============================] - 1s 4ms/step - loss: 0.2851 - val_loss: 0.5884\n",
      "Epoch 198/200\n",
      "164/164 [==============================] - 1s 4ms/step - loss: 0.3277 - val_loss: 0.5748\n",
      "Epoch 199/200\n",
      "164/164 [==============================] - 1s 4ms/step - loss: 0.3172 - val_loss: 0.5597\n",
      "Epoch 200/200\n",
      "164/164 [==============================] - 1s 4ms/step - loss: 0.3027 - val_loss: 0.5809\n"
     ]
    },
    {
     "data": {
      "text/plain": [
       "<keras.callbacks.History at 0x1eb896fbfa0>"
      ]
     },
     "execution_count": 12,
     "metadata": {},
     "output_type": "execute_result"
    }
   ],
   "source": [
    "visualizer.compile(optimizer='adam', \n",
    "                  loss='mean_squared_error') #the autoencoder is optimizwed using adam and the loss \n",
    "                                                              #and metrics are mean logarithmic squared error\n",
    "visualizer.fit(xtrainencoded,xtrainencoded,\n",
    "                epochs=200,\n",
    "                batch_size=20,\n",
    "                shuffle=True,\n",
    "                validation_split=0.2) #it is trained using a 20% validations. So from the 100 files batch, 80 are for \n",
    "                                      #training and 20 are for validation purposes"
   ]
  },
  {
   "cell_type": "code",
   "execution_count": 53,
   "id": "3315f71a",
   "metadata": {},
   "outputs": [
    {
     "name": "stderr",
     "output_type": "stream",
     "text": [
      "WARNING:absl:Found untraced functions such as leaky_re_lu_1_layer_call_and_return_conditional_losses, leaky_re_lu_1_layer_call_fn, leaky_re_lu_2_layer_call_and_return_conditional_losses, leaky_re_lu_2_layer_call_fn, leaky_re_lu_1_layer_call_fn while saving (showing 5 of 10). These functions will not be directly callable after loading.\n"
     ]
    },
    {
     "name": "stdout",
     "output_type": "stream",
     "text": [
      "INFO:tensorflow:Assets written to: visualizer\\assets\n"
     ]
    },
    {
     "name": "stderr",
     "output_type": "stream",
     "text": [
      "INFO:tensorflow:Assets written to: visualizer\\assets\n"
     ]
    }
   ],
   "source": [
    "visualizer.save('visualizer')"
   ]
  },
  {
   "cell_type": "markdown",
   "id": "05af0db7",
   "metadata": {},
   "source": [
    "%tensorboard --reuse_port False\n",
    "%tensorboard --logdir log_dir"
   ]
  },
  {
   "cell_type": "code",
   "execution_count": 13,
   "id": "e075f606",
   "metadata": {
    "scrolled": true
   },
   "outputs": [
    {
     "name": "stdout",
     "output_type": "stream",
     "text": [
      "(1, 64, 64, 2)\n"
     ]
    },
    {
     "data": {
      "text/html": [
       "\n",
       "                <audio  controls=\"controls\" >\n",
       "                    <source src=\"data:audio/wav;base64,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\" type=\"audio/wav\" />\n",
       "                    Your browser does not support the audio element.\n",
       "                </audio>\n",
       "              "
      ],
      "text/plain": [
       "<IPython.lib.display.Audio object>"
      ]
     },
     "metadata": {},
     "output_type": "display_data"
    },
    {
     "data": {
      "text/html": [
       "\n",
       "                <audio  controls=\"controls\" >\n",
       "                    <source src=\"data:audio/wav;base64,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\" type=\"audio/wav\" />\n",
       "                    Your browser does not support the audio element.\n",
       "                </audio>\n",
       "              "
      ],
      "text/plain": [
       "<IPython.lib.display.Audio object>"
      ]
     },
     "metadata": {},
     "output_type": "display_data"
    },
    {
     "data": {
      "text/html": [
       "\n",
       "                <audio  controls=\"controls\" >\n",
       "                    <source src=\"data:audio/wav;base64,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\" type=\"audio/wav\" />\n",
       "                    Your browser does not support the audio element.\n",
       "                </audio>\n",
       "              "
      ],
      "text/plain": [
       "<IPython.lib.display.Audio object>"
      ]
     },
     "metadata": {},
     "output_type": "display_data"
    },
    {
     "name": "stdout",
     "output_type": "stream",
     "text": [
      "(1, 64, 64, 2)\n"
     ]
    },
    {
     "data": {
      "text/html": [
       "\n",
       "                <audio  controls=\"controls\" >\n",
       "                    <source src=\"data:audio/wav;base64,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\" type=\"audio/wav\" />\n",
       "                    Your browser does not support the audio element.\n",
       "                </audio>\n",
       "              "
      ],
      "text/plain": [
       "<IPython.lib.display.Audio object>"
      ]
     },
     "metadata": {},
     "output_type": "display_data"
    },
    {
     "data": {
      "text/html": [
       "\n",
       "                <audio  controls=\"controls\" >\n",
       "                    <source src=\"data:audio/wav;base64,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\" type=\"audio/wav\" />\n",
       "                    Your browser does not support the audio element.\n",
       "                </audio>\n",
       "              "
      ],
      "text/plain": [
       "<IPython.lib.display.Audio object>"
      ]
     },
     "metadata": {},
     "output_type": "display_data"
    },
    {
     "data": {
      "text/html": [
       "\n",
       "                <audio  controls=\"controls\" >\n",
       "                    <source src=\"data:audio/wav;base64,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\" type=\"audio/wav\" />\n",
       "                    Your browser does not support the audio element.\n",
       "                </audio>\n",
       "              "
      ],
      "text/plain": [
       "<IPython.lib.display.Audio object>"
      ]
     },
     "metadata": {},
     "output_type": "display_data"
    },
    {
     "name": "stdout",
     "output_type": "stream",
     "text": [
      "(1, 64, 64, 2)\n"
     ]
    },
    {
     "data": {
      "text/html": [
       "\n",
       "                <audio  controls=\"controls\" >\n",
       "                    <source src=\"data:audio/wav;base64,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\" type=\"audio/wav\" />\n",
       "                    Your browser does not support the audio element.\n",
       "                </audio>\n",
       "              "
      ],
      "text/plain": [
       "<IPython.lib.display.Audio object>"
      ]
     },
     "metadata": {},
     "output_type": "display_data"
    },
    {
     "data": {
      "text/html": [
       "\n",
       "                <audio  controls=\"controls\" >\n",
       "                    <source src=\"data:audio/wav;base64,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\" type=\"audio/wav\" />\n",
       "                    Your browser does not support the audio element.\n",
       "                </audio>\n",
       "              "
      ],
      "text/plain": [
       "<IPython.lib.display.Audio object>"
      ]
     },
     "metadata": {},
     "output_type": "display_data"
    },
    {
     "data": {
      "text/html": [
       "\n",
       "                <audio  controls=\"controls\" >\n",
       "                    <source src=\"data:audio/wav;base64,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\" type=\"audio/wav\" />\n",
       "                    Your browser does not support the audio element.\n",
       "                </audio>\n",
       "              "
      ],
      "text/plain": [
       "<IPython.lib.display.Audio object>"
      ]
     },
     "metadata": {},
     "output_type": "display_data"
    },
    {
     "data": {
      "image/png": "[encoded data removed]",
      "text/plain": [
       "<Figure size 432x288 with 1 Axes>"
      ]
     },
     "metadata": {
      "needs_background": "light"
     },
     "output_type": "display_data"
    }
   ],
   "source": [
    "for n in [4,15,33]:\n",
    "\n",
    "    encoded_vector = (np.array([xtrainencoded[n]]))\n",
    "    decoded_array = np.array(autoencoder(np.array([xtrain[n]]))) #a sample file is runned through the autoencoder\n",
    "    decoded_audio = irosaspec(decoded_array[0],NFFT)\n",
    "\n",
    "    shortened_vector = shortener(np.array([xtrainencoded[n]]))\n",
    "    reshaped_vector = np.array([visualizer(np.array([xtrainencoded[n]]))])\n",
    "    decoded_arrayfromvect = np.array([decoder(reshaped_vector[0])])\n",
    "    decoded_audiofromvect = irosaspec(decoded_arrayfromvect[0,0],NFFT)\n",
    "\n",
    "    original = irosaspec(xtrain[n],NFFT)\n",
    "    print(decoded_array.shape)\n",
    "\n",
    "    IPython.display.display(IPython.display.Audio(original,rate = sroriginal1))\n",
    "    IPython.display.display(IPython.display.Audio(decoded_audio,rate=sroriginal1))\n",
    "    IPython.display.display(IPython.display.Audio(decoded_audiofromvect,rate = sroriginal1))\n",
    "\n",
    "    plt.plot(np.linspace(0,1,256),shortened_vector[0])"
   ]
  },
  {
   "cell_type": "code",
   "execution_count": 47,
   "id": "76145ab5",
   "metadata": {
    "scrolled": true
   },
   "outputs": [
    {
     "data": {
      "image/png": "[encoded data removed]",
      "text/plain": [
       "<Figure size 432x288 with 1 Axes>"
      ]
     },
     "metadata": {
      "needs_background": "light"
     },
     "output_type": "display_data"
    },
    {
     "data": {
      "text/html": [
       "\n",
       "                <audio  controls=\"controls\" >\n",
       "                    <source src=\"data:audio/wav;base64,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\" type=\"audio/wav\" />\n",
       "                    Your browser does not support the audio element.\n",
       "                </audio>\n",
       "              "
      ],
      "text/plain": [
       "<IPython.lib.display.Audio object>"
      ]
     },
     "metadata": {},
     "output_type": "display_data"
    }
   ],
   "source": [
    "from numpy import linspace as lin\n",
    "X = lin(0,6,256) #HEre I create a line of 256 points\n",
    "probe = np.sin(X) # Here I use a given function (in this case a sine function)\n",
    "for i in range(200,256): #here I can modify certain values to follow a different function\n",
    "    probe[i] = -2*np.cos(X[i])\n",
    "plt.plot(lin(0,1,256),probe)\n",
    "plt.show()\n",
    "shortened_vector = probe #then i use this modified vector and run it through all the decoders and the inverse \n",
    "                         #spectogram function\n",
    "reshaped_vector = np.array([reshaper(np.array([probe]))])\n",
    "decoded_arrayfromvect = np.array([decoder(reshaped_vector[0])])\n",
    "decoded_audiofromvect = irosaspec(decoded_arrayfromvect[0,0],NFFT)\n",
    "IPython.display.display(IPython.display.Audio(decoded_audiofromvect,rate = sroriginal1))\n"
   ]
  },
  {
   "cell_type": "code",
   "execution_count": null,
   "id": "7f0f832d",
   "metadata": {},
   "outputs": [],
   "source": []
  },
  {
   "cell_type": "code",
   "execution_count": null,
   "id": "88436cad",
   "metadata": {},
   "outputs": [],
   "source": []
  }
 ],
 "metadata": {
  "kernelspec": {
   "display_name": "Python 3 (ipykernel)",
   "language": "python",
   "name": "python3"
  },
  "language_info": {
   "codemirror_mode": {
    "name": "ipython",
    "version": 3
   },
   "file_extension": ".py",
   "mimetype": "text/x-python",
   "name": "python",
   "nbconvert_exporter": "python",
   "pygments_lexer": "ipython3",
   "version": "3.9.7"
  }
 },
 "nbformat": 4,
 "nbformat_minor": 5
}
